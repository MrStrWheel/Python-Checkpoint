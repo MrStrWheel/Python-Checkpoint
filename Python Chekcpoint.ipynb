{
 "cells": [
  {
   "cell_type": "code",
   "execution_count": 1,
   "id": "8742f7d7",
   "metadata": {},
   "outputs": [
    {
     "name": "stdout",
     "output_type": "stream",
     "text": [
      "[2002, 2009, 2016, 2023, 2030, 2037, 2044, 2051, 2058, 2065, 2072, 2079, 2086, 2093, 2100, 2107, 2114, 2121, 2128, 2135, 2142, 2149, 2156, 2163, 2170, 2177, 2184, 2191, 2198, 2205, 2212, 2219, 2226, 2233, 2240, 2247, 2254, 2261, 2268, 2275, 2282, 2289, 2296, 2303, 2310, 2317, 2324, 2331, 2338, 2345, 2352, 2359, 2366, 2373, 2380, 2387, 2394, 2401, 2408, 2415, 2422, 2429, 2436, 2443, 2450, 2457, 2464, 2471, 2478, 2485, 2492, 2499, 2506, 2513, 2520, 2527, 2534, 2541, 2548, 2555, 2562, 2569, 2576, 2583, 2590, 2597, 2604, 2611, 2618, 2625, 2632, 2639, 2646, 2653, 2660, 2667, 2674, 2681, 2688, 2695, 2702, 2709, 2716, 2723, 2730, 2737, 2744, 2751, 2758, 2765, 2772, 2779, 2786, 2793, 2800, 2807, 2814, 2821, 2828, 2835, 2842, 2849, 2856, 2863, 2870, 2877, 2884, 2891, 2898, 2905, 2912, 2919, 2926, 2933, 2940, 2947, 2954, 2961, 2968, 2975, 2982, 2989, 2996, 3003, 3010, 3017, 3024, 3031, 3038, 3045, 3052, 3059, 3066, 3073, 3080, 3087, 3094, 3101, 3108, 3115, 3122, 3129, 3136, 3143, 3150, 3157, 3164, 3171, 3178, 3185, 3192, 3199]\n"
     ]
    }
   ],
   "source": [
    "#Question 1\n",
    "nums = []\n",
    "for i in range(2000, 3201):\n",
    "    if i%7==0 and i%5!=5:\n",
    "        nums.append(i)\n",
    "print(nums)"
   ]
  },
  {
   "cell_type": "code",
   "execution_count": 2,
   "id": "cd3f15c2",
   "metadata": {},
   "outputs": [
    {
     "name": "stdout",
     "output_type": "stream",
     "text": [
      "Type in a number: 7\n",
      "5040\n"
     ]
    }
   ],
   "source": [
    "#Question 2\n",
    "num = int(input(\"Type in a number: \"))\n",
    "fct = num\n",
    "if num==0:\n",
    "    print(1)\n",
    "elif num<0:\n",
    "    print(\"Negative numbers don't have factorials.\")\n",
    "elif num>0:\n",
    "    for i in range(1, num):\n",
    "        fct = fct*(num-i)\n",
    "    print(fct)\n",
    "else:\n",
    "    print(\"There was an error.\")"
   ]
  },
  {
   "cell_type": "code",
   "execution_count": 3,
   "id": "31b404c7",
   "metadata": {},
   "outputs": [
    {
     "name": "stdout",
     "output_type": "stream",
     "text": [
      "Type in a number: 9\n",
      "{1: 1, 2: 4, 3: 9, 4: 16, 5: 25, 6: 36, 7: 49, 8: 64, 9: 81}\n"
     ]
    }
   ],
   "source": [
    "#Question 3\n",
    "n = int(input(\"Type in a number: \"))\n",
    "square = {}\n",
    "for i in range(1, n+1):\n",
    "    square[i] = i**2\n",
    "print(square)    "
   ]
  },
  {
   "cell_type": "code",
   "execution_count": 4,
   "id": "d2701af2",
   "metadata": {},
   "outputs": [
    {
     "name": "stdout",
     "output_type": "stream",
     "text": [
      "Type in a word or sentence: skander\n",
      "Type in the index of the character you want removed: 3\n",
      "skader\n"
     ]
    }
   ],
   "source": [
    "#Question 4\n",
    "sent = input(\"Type in a word or sentence: \")\n",
    "m = int(input(\"Type in the index of the character you want removed: \"))\n",
    "sent1 = list(sent)\n",
    "del sent1[m]\n",
    "sent2 = \"\".join(sent1)\n",
    "print(sent2)"
   ]
  },
  {
   "cell_type": "code",
   "execution_count": 5,
   "id": "b3e573f4",
   "metadata": {},
   "outputs": [
    {
     "name": "stdout",
     "output_type": "stream",
     "text": [
      "The original array:  [[0 1]\n",
      " [2 3]\n",
      " [4 5]]\n",
      "Array converted to list:  [[0, 1], [2, 3], [4, 5]]\n"
     ]
    }
   ],
   "source": [
    "#Question 5 \n",
    "import numpy as np\n",
    "myarray = np.array([[0, 1], [2, 3], [4, 5]])\n",
    "mylist = myarray.tolist()\n",
    "print(\"The original array: \", myarray)\n",
    "print(\"Array converted to list: \", mylist)"
   ]
  },
  {
   "cell_type": "code",
   "execution_count": 6,
   "id": "25266048",
   "metadata": {},
   "outputs": [
    {
     "name": "stdout",
     "output_type": "stream",
     "text": [
      "[[ 1. -1.]\n",
      " [-1.  1.]]\n"
     ]
    }
   ],
   "source": [
    "#Question 6\n",
    "array1 = [0, 1, 2]\n",
    "array2 = [2, 1, 0]\n",
    "print(np.cov(array1, array2))"
   ]
  },
  {
   "cell_type": "code",
   "execution_count": 7,
   "id": "3c6658e0",
   "metadata": {},
   "outputs": [
    {
     "name": "stdout",
     "output_type": "stream",
     "text": [
      "Type in three numbers separated by a comma: 7,8,9\n",
      "The result is:  5 5 5\n"
     ]
    }
   ],
   "source": [
    "#Question 7\n",
    "#Formule: q = round(math.sqrt((2*c*d)/h))\n",
    "import math\n",
    "c = 50\n",
    "h = 30\n",
    "d = input(\"Type in three numbers separated by a comma: \")\n",
    "d0 = d.split(\",\")\n",
    "d1 = int(d0[0])\n",
    "d2 = int(d0[1])\n",
    "d3 = int(d0[2])\n",
    "q1 = round(math.sqrt((2*c*d1)/h))\n",
    "q2 = round(math.sqrt((2*c*d2)/h))\n",
    "q3 = round(math.sqrt((2*c*d3)/h))\n",
    "print(\"The result is: \", q1, q2, q3)"
   ]
  }
 ],
 "metadata": {
  "kernelspec": {
   "display_name": "Python 3",
   "language": "python",
   "name": "python3"
  },
  "language_info": {
   "codemirror_mode": {
    "name": "ipython",
    "version": 3
   },
   "file_extension": ".py",
   "mimetype": "text/x-python",
   "name": "python",
   "nbconvert_exporter": "python",
   "pygments_lexer": "ipython3",
   "version": "3.8.8"
  }
 },
 "nbformat": 4,
 "nbformat_minor": 5
}
